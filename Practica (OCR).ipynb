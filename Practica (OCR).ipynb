{
 "cells": [
  {
   "cell_type": "markdown",
   "metadata": {},
   "source": [
    "# Vision Articial: Character recognition(OCR)"
   ]
  },
  {
   "cell_type": "markdown",
   "metadata": {},
   "source": [
    "# Ortega Hernandez Jose Manuel    15111304"
   ]
  },
  {
   "cell_type": "markdown",
   "metadata": {},
   "source": [
    "Hacer que la computadora tenga ojos no es tarea facil. Si, puedes tomar una câmara web, pero eso no significa que la computadora pueda analizar lo que está viendo\n",
    "\n",
    "Los acontecimientos recientes hicieron avanzar el campo. Con la tecnologia Deep Learning ahora pueden hacer observaciones basicas de diferentes objetos en muchas posiciones diferentes\n",
    "\n",
    "Entonces, si no sabes nada sobre el aprendizaje profundo o las redes neuronales, cómio comienzas en el campo de la visión por computadora?\n",
    "\n",
    "Por supuesto, no puede comenzar con los conceptos más complicados y trabajar hacia atrás. Tienes que empezar por lo básico\n",
    "\n",
    "En el nivel más basico, puede hacer reconocimiento de patrones. Para reducir la complejidad, recomiendo comenzar aprendiendo Python en lugar de C++\n",
    "\n",
    "El reconocimiento de caracteres (OCR) es una tarea muy básica de Visión Artificial\n"
   ]
  },
  {
   "cell_type": "markdown",
   "metadata": {},
   "source": [
    "# OCR con Python"
   ]
  },
  {
   "cell_type": "markdown",
   "metadata": {},
   "source": [
    "EL siguiente codigo traducira el texto de la imagen a texto en la terminal:\n"
   ]
  },
  {
   "cell_type": "code",
   "execution_count": null,
   "metadata": {},
   "outputs": [],
   "source": [
    "from PIL import Image \n",
    "import pytesseract\n",
    "\n",
    "def ocr_core(filename):\n",
    "    text = pytesseract.image_to_string(Image.open(filename))\n",
    "    return text \n",
    "\n",
    "data =ocr_core('image2.png')\n",
    "print(data)\n"
   ]
  },
  {
   "cell_type": "code",
   "execution_count": null,
   "metadata": {},
   "outputs": [],
   "source": []
  }
 ],
 "metadata": {
  "kernelspec": {
   "display_name": "Python 3",
   "language": "python",
   "name": "python3"
  },
  "language_info": {
   "codemirror_mode": {
    "name": "ipython",
    "version": 3
   },
   "file_extension": ".py",
   "mimetype": "text/x-python",
   "name": "python",
   "nbconvert_exporter": "python",
   "pygments_lexer": "ipython3",
   "version": "3.7.7"
  }
 },
 "nbformat": 4,
 "nbformat_minor": 4
}
