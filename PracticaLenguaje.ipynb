{
 "cells": [
  {
   "cell_type": "markdown",
   "metadata": {},
   "source": [
    "# Practica Deteccion de lenguaje usando NLTK"
   ]
  },
  {
   "cell_type": "markdown",
   "metadata": {},
   "source": [
    "# Ortega Hernandez Jose Manuel     15111304"
   ]
  },
  {
   "cell_type": "markdown",
   "metadata": {},
   "source": [
    "Python es uno de los lengujes de programas mas potentes y ppulares. Como hemos visto hasta el dia de hoy se puede utilir de muchas formas. Entre una de estas, se incluye la deteccion de idiomas. Es aqui donde entran los algoritmos de PLN."
   ]
  },
  {
   "cell_type": "markdown",
   "metadata": {},
   "source": [
    "Los algoritmos de PLN tienen que modificarse para diferentes corpus y de acuerdo con la gramatica de diferentes idiomas. De acuerdo on el idioma que se este utilizando para realizar PLN, es el software o librerias que se debe seleccionar.Por ejemplo, NLTK es la libreria de procesamiento de lenguaje natural mas utilizada para el idioma ingles en Python. Sin embargo en Python. Sin embargo, Freeling es de las mejores alternativas cuando estamos trabajando con espanol."
   ]
  },
  {
   "cell_type": "markdown",
   "metadata": {},
   "source": [
    "La eficiencia del procesamiento del lenguaje natural depende de varios factores. Un modelo con una calidad superior para el analisis del texto debe de incluir lo siguiente:"
   ]
  },
  {
   "cell_type": "markdown",
   "metadata": {},
   "source": [
    "# 1. Extraccion de texto"
   ]
  },
  {
   "cell_type": "markdown",
   "metadata": {},
   "source": [
    "El texto puede extraer mediante desde una paguina o datos wed, importando en un formato particular, tomando desde una base de datos u atraves de una API."
   ]
  },
  {
   "cell_type": "markdown",
   "metadata": {},
   "source": [
    "# 2. Indentificacion del texto:"
   ]
  },
  {
   "cell_type": "markdown",
   "metadata": {},
   "source": [
    "es el proceso de separacion de texto relevante o de interes, del texto que nos anede ruido al analisis."
   ]
  },
  {
   "cell_type": "markdown",
   "metadata": {},
   "source": [
    "# 3. Procesamiento de Lenguaje Natural (PLN):"
   ]
  },
  {
   "cell_type": "markdown",
   "metadata": {},
   "source": [
    "Es el conjunto de algoritmos que admiten el procesamiento de diferentes idiomas o lenguajes."
   ]
  },
  {
   "cell_type": "markdown",
   "metadata": {},
   "source": [
    "# 4. Aprendizaje automatico"
   ]
  },
  {
   "cell_type": "markdown",
   "metadata": {},
   "source": [
    "Es un paso esencial para lograr objetivos como la colabolaricion, el analisis de sentimientos y agrupacion."
   ]
  },
  {
   "cell_type": "markdown",
   "metadata": {},
   "source": [
    "# Combinacion de python y NTLK para la deteccion del lenguaje."
   ]
  },
  {
   "cell_type": "markdown",
   "metadata": {},
   "source": [
    "La mayoria de las personas utilizan motores de busqueda y redes sociales. Los cuales se muestran en diferentes lenguajes. Entre ellos espanol e ingles. Para lograr este proceso, un texto indexado debe examinarse bien, lo que da como resultado el contenido mostrado por estos motores y en redes sociales."
   ]
  },
  {
   "cell_type": "markdown",
   "metadata": {},
   "source": [
    "Existen muchas maneras de lograr este objetivo, la forma mas facil de hacerlo es mediante el enfoque basado en \"stop words\""
   ]
  },
  {
   "cell_type": "markdown",
   "metadata": {},
   "source": [
    "\"Stopword\" se usa en el procesamiento de lenguaje natural para mencionar palabras que se deben filtrar del texto antes de que tenga lugar cualquier tipo de procesamiento."
   ]
  },
  {
   "cell_type": "markdown",
   "metadata": {},
   "source": [
    "Ahora tenemos un texto para detectar el idioma. El paso basico d Tokenizar el texto dado una lista de palabras y tokens , utiilizando un enfoque que depende de los requeriiimientos."
   ]
  },
  {
   "cell_type": "markdown",
   "metadata": {},
   "source": [
    "# El siguiente ejemplo de deteccion de lenguaje utiliza NLTK y Python"
   ]
  },
  {
   "cell_type": "code",
   "execution_count": null,
   "metadata": {},
   "outputs": [],
   "source": [
    "from nltk import *\n",
    "from nltk.corpus import *\n",
    "\n",
    "def lang_ratio(input):\n",
    "    lang_ratio = {} \n",
    "    tokens = wordpunct_tokenize(input) \n",
    "    words = [word.lower() for word in tokens ] \n",
    "    for language in stopwords.fileids():\n",
    "        stopwords = set (stopwords.words (language))\n",
    "        words_set = set (words)\n",
    "        common_elements = words_set.intersection(stopwords_set)\n",
    "        lang_ratio[language] = len(common_elements)\n",
    "        return lang_ratio \n",
    "\n",
    "#Funcion que detecta lenguaje \n",
    "\n",
    "def detect_language (input):\n",
    "    ratios = lang_ratio(input)\n",
    "    language = max(ratios, key=ratios.get)\n",
    "    return language\n",
    "\n",
    "input1 = \"Hello my name is Manuel Ortega\"\n",
    "input2 = \"Hola mi nombre es Manuel Ortega\"\n",
    "input3 = \"Bonjour mon nom est Manuel Ortega\"\n",
    "input4 = \"Hallo mein Name ist Manuel Ortega\"\n",
    "\n",
    "language = detect_language(input1)\n",
    "print('Cadena de texto:' + input1 + '\\t Lenguaje:' + language)\n",
    "\n",
    "language = detect_language(input2)\n",
    "print('\\n' + 'Cadena de texto:' + input2 + '\\t Lenguaje:' + language)\n",
    "\n",
    "language = detect_language(input3)\n",
    "print('\\n' + 'Cadena de texto:' + input3 + '\\t Lenguaje:' + language)\n",
    "\n",
    "language = detect_language(input4)\n",
    "print('\\n' + 'Cadena de texto:' + input4 + '\\t Lenguaje:' + language)\n",
    "\n"
   ]
  }
 ],
 "metadata": {
  "kernelspec": {
   "display_name": "Python 3",
   "language": "python",
   "name": "python3"
  },
  "language_info": {
   "codemirror_mode": {
    "name": "ipython",
    "version": 3
   },
   "file_extension": ".py",
   "mimetype": "text/x-python",
   "name": "python",
   "nbconvert_exporter": "python",
   "pygments_lexer": "ipython3",
   "version": "3.7.6"
  }
 },
 "nbformat": 4,
 "nbformat_minor": 4
}
